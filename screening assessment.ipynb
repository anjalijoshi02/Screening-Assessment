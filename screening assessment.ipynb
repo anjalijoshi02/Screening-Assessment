{
 "cells": [
  {
   "cell_type": "markdown",
   "id": "00848755",
   "metadata": {},
   "source": [
    "### Question 1:"
   ]
  },
  {
   "cell_type": "code",
   "execution_count": 1,
   "id": "41ad13cc",
   "metadata": {},
   "outputs": [],
   "source": [
    "# python function to replace the specific content of the file\n",
    "def replace_content(filename,word,replace_with):\n",
    "    # opening file in read mode to read the data\n",
    "    with open(filename,'r') as file:\n",
    "        data=file.read()\n",
    "    data=data.replace(word,replace_with)\n",
    "    with open(filename,'w') as file:\n",
    "        file.write(data)\n",
    "        \n",
    "        "
   ]
  },
  {
   "cell_type": "markdown",
   "id": "b0091b44",
   "metadata": {},
   "source": [
    "### Abstract  Classes"
   ]
  },
  {
   "cell_type": "markdown",
   "id": "b835d712",
   "metadata": {},
   "source": [
    "- A class that contains one or more abstract methods is called an abstract class. An abstract method is a method that has a declaration but does have an implementation.      \n",
    "- We use abstract classes while designing large functional units. When we want to provide a common interface for different implementations of a component, we use an abstract class. \n",
    "- An abstract class allows us to create functionality that subclasses can implement or override.\n",
    "- __How Abstract Base Class works ?__\n",
    "- By default, python does not support abstract class.ABC(Abstract Base Class) is the module that provides a base for defining Abstract classes. ABC works by decorating methods of the base class as abstract and then registering concrete classes as implementations of the abstract base."
   ]
  },
  {
   "cell_type": "code",
   "execution_count": 2,
   "id": "0f276b5e",
   "metadata": {},
   "outputs": [
    {
     "name": "stdout",
     "output_type": "stream",
     "text": [
      "A traingle has 3 sides\n",
      "A rectangle has 4 sides\n",
      "A pentagon has 5 sides\n",
      "An octagon has 8 sides\n"
     ]
    }
   ],
   "source": [
    "## Example\n",
    "## importing abc module\n",
    "from abc import ABC, abstractmethod\n",
    "class Polygon(ABC):\n",
    "    @abstractmethod\n",
    "    def no_of_sides(self):\n",
    "        pass\n",
    "class Triangle(Polygon):\n",
    "    ## overriding abstract method\n",
    "    def no_of_sides(self):\n",
    "        print(\"A traingle has 3 sides\")\n",
    "class Rectangle(Polygon):\n",
    "     ## overriding abstract method\n",
    "    def no_of_sides(self):\n",
    "        print(\"A rectangle has 4 sides\")\n",
    "class Pentagon(Polygon):\n",
    "    # overriding abstract method\n",
    "     def no_of_sides(self):\n",
    "        print(\"A pentagon has 5 sides\")\n",
    "class Octagon(Polygon):\n",
    "    # overriding abstract method\n",
    "    def no_of_sides(self):\n",
    "        print(\"An octagon has 8 sides\")\n",
    "## driver code\n",
    "T=Triangle()\n",
    "T.no_of_sides()\n",
    "R=Rectangle()\n",
    "R.no_of_sides()\n",
    "P=Pentagon()\n",
    "P.no_of_sides()\n",
    "O=Octagon()\n",
    "O.no_of_sides()\n",
    "    "
   ]
  },
  {
   "cell_type": "markdown",
   "id": "53edff8c",
   "metadata": {},
   "source": [
    "### Multiple Inheritance"
   ]
  },
  {
   "cell_type": "markdown",
   "id": "1d424ab3",
   "metadata": {},
   "source": [
    "- __Multiple Inheritance__: When a derived class inherits features from two or more base class, then it is called multiple inheritance.\n",
    "- For example: A child inherits features from its parents, that is from mother and father."
   ]
  },
  {
   "cell_type": "code",
   "execution_count": 3,
   "id": "4a40fb77",
   "metadata": {},
   "outputs": [],
   "source": [
    "class Base1():\n",
    "    pass\n",
    "class Base2():\n",
    "    pass\n",
    "class Derived(Base1,Base2):\n",
    "    pass"
   ]
  },
  {
   "cell_type": "markdown",
   "id": "4279a004",
   "metadata": {},
   "source": [
    "### Decorators"
   ]
  },
  {
   "cell_type": "markdown",
   "id": "3312b184",
   "metadata": {},
   "source": [
    "Decorators allow us to modify the behaviour of a function or a class.  Decorators allow us to wrap another function in order to extend the behaviour of the wrapped function, without permanently modifying it.\n"
   ]
  },
  {
   "cell_type": "code",
   "execution_count": 4,
   "id": "2a059301",
   "metadata": {},
   "outputs": [
    {
     "name": "stdout",
     "output_type": "stream",
     "text": [
      "0.5\n",
      "2.0\n"
     ]
    }
   ],
   "source": [
    "## Example\n",
    "def div(a,b):\n",
    "    print(a/b)\n",
    "div(2,4)   ## the output of this function will be 0.5\n",
    "\n",
    "## But if we want to create a function that returns the quotient when the larger numver is divided by smaller number , \n",
    "#irrespective of the order in which they were passed without actually modifying the original function,and for this purpose we \n",
    "#use the concept of decorators.\n",
    "\n",
    "## Using decorators we can add the extra features into existing function \n",
    "\n",
    "# We will define a new function that takes the function \"div\" as its arguments and then it swaps the arguments based on certain \n",
    "# conditions and returns the result\n",
    "\n",
    "def new_div(func):\n",
    "    def inner(a,b):# it will also take the same numver of arguments as the original function\n",
    "        if a<b:\n",
    "            a,b=b,a\n",
    "        return func(a,b)\n",
    "    return inner\n",
    "div=new_div(div)\n",
    "div(2,4)\n",
    "    "
   ]
  },
  {
   "cell_type": "code",
   "execution_count": null,
   "id": "1468568a",
   "metadata": {},
   "outputs": [],
   "source": []
  }
 ],
 "metadata": {
  "kernelspec": {
   "display_name": "Python 3 (ipykernel)",
   "language": "python",
   "name": "python3"
  },
  "language_info": {
   "codemirror_mode": {
    "name": "ipython",
    "version": 3
   },
   "file_extension": ".py",
   "mimetype": "text/x-python",
   "name": "python",
   "nbconvert_exporter": "python",
   "pygments_lexer": "ipython3",
   "version": "3.9.12"
  }
 },
 "nbformat": 4,
 "nbformat_minor": 5
}
